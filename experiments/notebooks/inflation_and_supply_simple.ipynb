{
 "cells": [
  {
   "cell_type": "code",
   "execution_count": null,
   "id": "b4e1b5e4",
   "metadata": {
    "tags": []
   },
   "outputs": [],
   "source": [
    "import setup\n",
    "from experiments.notebooks.visualizations.eth_supply_simulator import run_eth_supply_simulator"
   ]
  },
  {
   "cell_type": "code",
   "execution_count": null,
   "id": "e78b0e55",
   "metadata": {},
   "outputs": [],
   "source": [
    "run_eth_supply_simulator(execution_mode='inline')\n",
    "\n",
    "# To display in new browser tab at http://127.0.0.1:8050/:\n",
    "# run_eth_supply_simulator(execution_mode='external')\n",
    "\n",
    "# To display either in \"inline\" mode when using Jupyter Notebook,\n",
    "# or \"jupyterlab\" mode when using Jupyter Lab:\n",
    "# run_eth_supply_simulator()"
   ]
  },
  {
   "cell_type": "code",
   "execution_count": null,
   "id": "3131ab9b-6086-4f3d-a98c-f80151d4097a",
   "metadata": {},
   "outputs": [],
   "source": []
  }
 ],
 "metadata": {
  "kernelspec": {
   "display_name": "Python (CADLabs Ethereum Model)",
   "language": "python",
   "name": "python-cadlabs-eth-model"
  },
  "language_info": {
   "codemirror_mode": {
    "name": "ipython",
    "version": 3
   },
   "file_extension": ".py",
   "mimetype": "text/x-python",
   "name": "python",
   "nbconvert_exporter": "python",
   "pygments_lexer": "ipython3",
   "version": "3.9.6"
  }
 },
 "nbformat": 4,
 "nbformat_minor": 5
}
